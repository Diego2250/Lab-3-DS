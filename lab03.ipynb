{
 "cells": [
  {
   "cell_type": "markdown",
   "metadata": {},
   "source": [
    "# Laboratorio 3 - Data Science\n",
    "Diego Morales - 21146   \n",
    "Alejandro Ortega - 18248"
   ]
  },
  {
   "cell_type": "code",
   "execution_count": 532,
   "metadata": {},
   "outputs": [],
   "source": [
    "import numpy as np\n",
    "import matplotlib.pyplot as plt\n",
    "import tensorflow as tf\n",
    "import pickle\n",
    "import os\n",
    "from tensorflow.keras.preprocessing.image import img_to_array\n",
    "import tensorflow as tf\n",
    "from tensorflow.keras import layers, models\n",
    "import random\n"
   ]
  },
  {
   "cell_type": "code",
   "execution_count": 79,
   "metadata": {},
   "outputs": [],
   "source": [
    "# Establecer la semilla para reproducibilidad\n",
    "seed = 42\n",
    "np.random.seed(seed)\n",
    "tf.random.set_seed(seed)\n",
    "random.seed(seed)"
   ]
  },
  {
   "cell_type": "code",
   "execution_count": 80,
   "metadata": {},
   "outputs": [
    {
     "name": "stdout",
     "output_type": "stream",
     "text": [
      "Tensor flow version: 2.10.0\n"
     ]
    }
   ],
   "source": [
    "print(f\"Tensor flow version: {tf.__version__}\")"
   ]
  },
  {
   "cell_type": "markdown",
   "metadata": {},
   "source": [
    "## 1. Preparación de datos"
   ]
  },
  {
   "cell_type": "code",
   "execution_count": 534,
   "metadata": {},
   "outputs": [
    {
     "name": "stdout",
     "output_type": "stream",
     "text": [
      "dict_keys(['coords', 'labels', 'features', 'sizes'])\n",
      "Key: coords, Type: <class 'numpy.ndarray'>, Length: 34799\n",
      "Key: labels, Type: <class 'numpy.ndarray'>, Length: 34799\n",
      "Key: features, Type: <class 'numpy.ndarray'>, Length: 34799\n",
      "Key: sizes, Type: <class 'numpy.ndarray'>, Length: 34799\n"
     ]
    }
   ],
   "source": [
    "# Cargar el archivo .p\n",
    "with open('Datos_Rotulos_Trafico/entrenamiento.p', 'rb') as file:\n",
    "    data = pickle.load(file)\n",
    "\n",
    "# Imprimir las claves disponibles\n",
    "print(data.keys())\n",
    "\n",
    "# Inspeccionar un poco más el contenido\n",
    "for key in data.keys():\n",
    "    print(f\"Key: {key}, Type: {type(data[key])}, Length: {len(data[key])}\")"
   ]
  },
  {
   "cell_type": "code",
   "execution_count": 535,
   "metadata": {},
   "outputs": [],
   "source": [
    "def load_data(pickle_file):\n",
    "    with open(pickle_file, 'rb') as file:\n",
    "        data = pickle.load(file)\n",
    "    return data['features'], data['labels']"
   ]
  },
  {
   "cell_type": "code",
   "execution_count": 536,
   "metadata": {},
   "outputs": [],
   "source": [
    "X_train, y_train = load_data('Datos_Rotulos_Trafico/entrenamiento.p')\n",
    "X_validation, y_validation = load_data('Datos_Rotulos_Trafico/validacion.p')\n",
    "X_test, y_test = load_data('Datos_Rotulos_Trafico/prueba.p')"
   ]
  },
  {
   "cell_type": "code",
   "execution_count": 537,
   "metadata": {},
   "outputs": [],
   "source": [
    "X_train = X_train / 255.0\n",
    "X_validation = X_validation / 255.0\n",
    "X_test = X_test / 255.0\n",
    "\n",
    "\n",
    "y_train = np.array(y_train)\n",
    "y_validation = np.array(y_validation)\n",
    "y_test = np.array(y_test)"
   ]
  },
  {
   "cell_type": "code",
   "execution_count": 538,
   "metadata": {},
   "outputs": [
    {
     "data": {
      "text/plain": [
       "(34799, 32, 32, 3)"
      ]
     },
     "execution_count": 538,
     "metadata": {},
     "output_type": "execute_result"
    }
   ],
   "source": [
    "X_train.shape"
   ]
  },
  {
   "cell_type": "code",
   "execution_count": 539,
   "metadata": {},
   "outputs": [
    {
     "data": {
      "text/plain": [
       "(34799,)"
      ]
     },
     "execution_count": 539,
     "metadata": {},
     "output_type": "execute_result"
    }
   ],
   "source": [
    "y_train.shape"
   ]
  },
  {
   "cell_type": "code",
   "execution_count": 540,
   "metadata": {},
   "outputs": [
    {
     "data": {
      "text/plain": [
       "(4410, 32, 32, 3)"
      ]
     },
     "execution_count": 540,
     "metadata": {},
     "output_type": "execute_result"
    }
   ],
   "source": [
    "X_validation.shape"
   ]
  },
  {
   "cell_type": "code",
   "execution_count": 541,
   "metadata": {},
   "outputs": [
    {
     "data": {
      "text/plain": [
       "(4410,)"
      ]
     },
     "execution_count": 541,
     "metadata": {},
     "output_type": "execute_result"
    }
   ],
   "source": [
    "y_validation.shape"
   ]
  },
  {
   "cell_type": "code",
   "execution_count": 542,
   "metadata": {},
   "outputs": [
    {
     "data": {
      "text/plain": [
       "(12630, 32, 32, 3)"
      ]
     },
     "execution_count": 542,
     "metadata": {},
     "output_type": "execute_result"
    }
   ],
   "source": [
    "X_test.shape"
   ]
  },
  {
   "cell_type": "code",
   "execution_count": 543,
   "metadata": {},
   "outputs": [
    {
     "data": {
      "text/plain": [
       "(12630,)"
      ]
     },
     "execution_count": 543,
     "metadata": {},
     "output_type": "execute_result"
    }
   ],
   "source": [
    "y_test.shape"
   ]
  },
  {
   "cell_type": "markdown",
   "metadata": {},
   "source": [
    "## 2. Implementación de la arquitectura Le-Net"
   ]
  },
  {
   "cell_type": "markdown",
   "metadata": {},
   "source": [
    "### Presentar la arquitectura Le-Net en detalle, explicando cada capa (convolucional, pooling, fully connected)"
   ]
  },
  {
   "cell_type": "markdown",
   "metadata": {},
   "source": [
    "### Mostrar el diseño de la red Le-Net utilizando una herramienta de diagramación"
   ]
  },
  {
   "cell_type": "markdown",
   "metadata": {},
   "source": [
    "### Explicar el proceso de convolución, función de activación y pooling."
   ]
  },
  {
   "cell_type": "markdown",
   "metadata": {},
   "source": [
    "## 3. Contrucción de modelo"
   ]
  },
  {
   "cell_type": "code",
   "execution_count": 544,
   "metadata": {},
   "outputs": [],
   "source": [
    "model = models.Sequential()"
   ]
  },
  {
   "cell_type": "code",
   "execution_count": 545,
   "metadata": {},
   "outputs": [],
   "source": [
    "# Definir la estructura de capas convolucionales, capas de pooling y capas fully connected\n",
    "model.add(layers.Input(shape=(32, 32, 3)))\n",
    "model.add(layers.Conv2D(32, (3, 3), activation='relu'))\n",
    "model.add(layers.MaxPooling2D((2, 2)))\n",
    "model.add(layers.Conv2D(64, (3, 3), activation='relu'))\n",
    "model.add(layers.MaxPooling2D((2, 2)))\n",
    "model.add(layers.Conv2D(64, (3, 3), activation='relu'))\n",
    "\n",
    "model.add(layers.Flatten())\n",
    "\n",
    "model.add(layers.Dense(64, activation='relu'))\n",
    "model.add(layers.Dense(43, activation='softmax'))\n"
   ]
  },
  {
   "cell_type": "code",
   "execution_count": 546,
   "metadata": {},
   "outputs": [
    {
     "name": "stdout",
     "output_type": "stream",
     "text": [
      "Model: \"sequential_29\"\n",
      "_________________________________________________________________\n",
      " Layer (type)                Output Shape              Param #   \n",
      "=================================================================\n",
      " conv2d_72 (Conv2D)          (None, 30, 30, 32)        896       \n",
      "                                                                 \n",
      " max_pooling2d_33 (MaxPoolin  (None, 15, 15, 32)       0         \n",
      " g2D)                                                            \n",
      "                                                                 \n",
      " conv2d_73 (Conv2D)          (None, 13, 13, 64)        18496     \n",
      "                                                                 \n",
      " max_pooling2d_34 (MaxPoolin  (None, 6, 6, 64)         0         \n",
      " g2D)                                                            \n",
      "                                                                 \n",
      " conv2d_74 (Conv2D)          (None, 4, 4, 64)          36928     \n",
      "                                                                 \n",
      " flatten_29 (Flatten)        (None, 1024)              0         \n",
      "                                                                 \n",
      " dense_73 (Dense)            (None, 64)                65600     \n",
      "                                                                 \n",
      " dense_74 (Dense)            (None, 43)                2795      \n",
      "                                                                 \n",
      "=================================================================\n",
      "Total params: 124,715\n",
      "Trainable params: 124,715\n",
      "Non-trainable params: 0\n",
      "_________________________________________________________________\n"
     ]
    }
   ],
   "source": [
    "model.summary()"
   ]
  },
  {
   "cell_type": "code",
   "execution_count": 547,
   "metadata": {},
   "outputs": [],
   "source": [
    "model.compile(optimizer=tf.keras.optimizers.Adam(learning_rate=0.001), \n",
    "              loss='sparse_categorical_crossentropy', \n",
    "              metrics=['accuracy'])"
   ]
  },
  {
   "cell_type": "markdown",
   "metadata": {},
   "source": [
    "### Explicar la importancia de la función de pérdida y el optimizador."
   ]
  },
  {
   "cell_type": "markdown",
   "metadata": {},
   "source": [
    "## 4. Entrenamiento del modelo"
   ]
  },
  {
   "cell_type": "markdown",
   "metadata": {},
   "source": [
    "### Explicar el proceso de entrenamiento de la red neuronal.\n"
   ]
  },
  {
   "cell_type": "code",
   "execution_count": 548,
   "metadata": {},
   "outputs": [],
   "source": [
    "# Mostrar cómo cargar los datos de entrenamiento y validación en lotes.\n",
    "train_dataset = tf.data.Dataset.from_tensor_slices((X_train, y_train))\n",
    "train_dataset = train_dataset.shuffle(len(X_train)).batch(128)\n",
    "\n",
    "validation_dataset = tf.data.Dataset.from_tensor_slices((X_validation, y_validation))\n",
    "validation_dataset = validation_dataset.batch(128)\n",
    "\n",
    "# Compilar el modelo\n",
    "model.compile(optimizer='adam',\n",
    "              loss='sparse_categorical_crossentropy',\n",
    "              metrics=['accuracy'])"
   ]
  },
  {
   "cell_type": "code",
   "execution_count": 549,
   "metadata": {},
   "outputs": [
    {
     "name": "stdout",
     "output_type": "stream",
     "text": [
      "Epoch 1/5\n",
      "272/272 [==============================] - 62s 217ms/step - loss: 1.8181 - accuracy: 0.5155 - val_loss: 0.8762 - val_accuracy: 0.7637\n",
      "Epoch 2/5\n",
      "272/272 [==============================] - 55s 201ms/step - loss: 0.3837 - accuracy: 0.8976 - val_loss: 0.6476 - val_accuracy: 0.8497\n",
      "Epoch 3/5\n",
      "272/272 [==============================] - 55s 203ms/step - loss: 0.2042 - accuracy: 0.9491 - val_loss: 0.4138 - val_accuracy: 0.8905\n",
      "Epoch 4/5\n",
      "272/272 [==============================] - 58s 214ms/step - loss: 0.1291 - accuracy: 0.9688 - val_loss: 0.3651 - val_accuracy: 0.9138\n",
      "Epoch 5/5\n",
      "272/272 [==============================] - 58s 211ms/step - loss: 0.0889 - accuracy: 0.9791 - val_loss: 0.3558 - val_accuracy: 0.9045\n"
     ]
    }
   ],
   "source": [
    "history = model.fit(train_dataset, epochs=5, validation_data=validation_dataset)"
   ]
  },
  {
   "cell_type": "code",
   "execution_count": 550,
   "metadata": {},
   "outputs": [
    {
     "name": "stdout",
     "output_type": "stream",
     "text": [
      "dict_keys(['loss', 'accuracy', 'val_loss', 'val_accuracy'])\n"
     ]
    }
   ],
   "source": [
    "print(history.history.keys())"
   ]
  },
  {
   "cell_type": "code",
   "execution_count": 551,
   "metadata": {},
   "outputs": [
    {
     "name": "stdout",
     "output_type": "stream",
     "text": [
      "Accuracy: [0.5155320763587952, 0.8976407647132874, 0.94913649559021, 0.9688209295272827, 0.9791085720062256]\n"
     ]
    }
   ],
   "source": [
    "print(f\"Accuracy: {history.history['accuracy']}\")"
   ]
  },
  {
   "cell_type": "markdown",
   "metadata": {},
   "source": [
    "## 5. Evaluación del modelo"
   ]
  },
  {
   "cell_type": "code",
   "execution_count": 552,
   "metadata": {},
   "outputs": [
    {
     "name": "stdout",
     "output_type": "stream",
     "text": [
      "395/395 [==============================] - 11s 27ms/step - loss: 0.6194 - accuracy: 0.9025\n"
     ]
    }
   ],
   "source": [
    "# Evaluar el modelo entrenado utilizando el conjunto de prueba.\n",
    "test_loss, test_accuracy = model.evaluate(X_test, y_test)"
   ]
  },
  {
   "cell_type": "code",
   "execution_count": 553,
   "metadata": {},
   "outputs": [
    {
     "name": "stdout",
     "output_type": "stream",
     "text": [
      "395/395 [==============================] - 9s 22ms/step\n",
      "              precision    recall  f1-score   support\n",
      "\n",
      "           0       0.90      0.58      0.71        60\n",
      "           1       0.90      0.94      0.92       720\n",
      "           2       0.93      0.94      0.94       750\n",
      "           3       0.97      0.88      0.92       450\n",
      "           4       0.97      0.88      0.92       660\n",
      "           5       0.79      0.91      0.84       630\n",
      "           6       0.96      0.82      0.88       150\n",
      "           7       0.86      0.88      0.87       450\n",
      "           8       0.85      0.91      0.88       450\n",
      "           9       0.96      0.95      0.96       480\n",
      "          10       0.93      0.97      0.95       660\n",
      "          11       0.89      0.95      0.92       420\n",
      "          12       0.94      0.94      0.94       690\n",
      "          13       0.97      0.99      0.98       720\n",
      "          14       1.00      1.00      1.00       270\n",
      "          15       0.96      0.99      0.98       210\n",
      "          16       0.95      0.98      0.97       150\n",
      "          17       1.00      0.89      0.94       360\n",
      "          18       0.88      0.71      0.79       390\n",
      "          19       0.81      0.50      0.62        60\n",
      "          20       0.83      0.88      0.85        90\n",
      "          21       0.54      0.54      0.54        90\n",
      "          22       0.97      0.63      0.77       120\n",
      "          23       0.77      0.95      0.85       150\n",
      "          24       0.65      0.71      0.68        90\n",
      "          25       0.94      0.91      0.92       480\n",
      "          26       0.77      0.90      0.83       180\n",
      "          27       0.86      0.50      0.63        60\n",
      "          28       0.79      0.83      0.81       150\n",
      "          29       0.64      1.00      0.78        90\n",
      "          30       0.81      0.53      0.64       150\n",
      "          31       0.79      0.96      0.87       270\n",
      "          32       0.77      1.00      0.87        60\n",
      "          33       0.84      0.99      0.91       210\n",
      "          34       0.94      0.99      0.97       120\n",
      "          35       1.00      0.88      0.94       390\n",
      "          36       0.99      0.90      0.94       120\n",
      "          37       0.62      0.93      0.75        60\n",
      "          38       0.96      0.94      0.95       690\n",
      "          39       0.91      0.69      0.78        90\n",
      "          40       0.88      0.68      0.77        90\n",
      "          41       1.00      0.75      0.86        60\n",
      "          42       0.97      0.98      0.97        90\n",
      "\n",
      "    accuracy                           0.90     12630\n",
      "   macro avg       0.88      0.85      0.86     12630\n",
      "weighted avg       0.91      0.90      0.90     12630\n",
      "\n"
     ]
    }
   ],
   "source": [
    "# Mostrar cómo calcular métricas de evaluación, como Precisión, Recall y F1-Score para cada clase\n",
    "y_pred = model.predict(X_test)\n",
    "y_pred = np.argmax(y_pred, axis=1)\n",
    "\n",
    "from sklearn.metrics import classification_report\n",
    "\n",
    "print(classification_report(y_test, y_pred))"
   ]
  },
  {
   "cell_type": "markdown",
   "metadata": {},
   "source": [
    "### Interpretación de resultados\n",
    "La red Le-Net muestra un rendimiento general bastante bueno con una precisión del 90% en el conjunto de prueba. Las métricas de evaluación indican que el modelo tiene un alto desempeño en la mayoría de las clases, donde la precisión y el recall son elevados. Sin embargo, en ciertas clases, el modelo presenta una precisión más baja o un recall insuficiente, lo que sugiere que podría ser útil ajustar el modelo, aumentar la cantidad de datos de entrenamiento o aplicar técnicas de regularización para mejorar el rendimiento en estas clases."
   ]
  }
 ],
 "metadata": {
  "kernelspec": {
   "display_name": "tensorflow_env",
   "language": "python",
   "name": "python3"
  },
  "language_info": {
   "codemirror_mode": {
    "name": "ipython",
    "version": 3
   },
   "file_extension": ".py",
   "mimetype": "text/x-python",
   "name": "python",
   "nbconvert_exporter": "python",
   "pygments_lexer": "ipython3",
   "version": "3.8.18"
  }
 },
 "nbformat": 4,
 "nbformat_minor": 2
}
